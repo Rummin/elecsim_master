{
 "cells": [
  {
   "cell_type": "code",
   "execution_count": 18,
   "metadata": {},
   "outputs": [],
   "source": [
    "import pandas as pd\n",
    "import seaborn as sns\n",
    "import matplotlib.pyplot as plt\n",
    "import pickle\n",
    "# pd.set_option('display.max_columns', None)"
   ]
  },
  {
   "cell_type": "code",
   "execution_count": 3,
   "metadata": {},
   "outputs": [
    {
     "data": {
      "text/html": [
       "<div>\n",
       "<style scoped>\n",
       "    .dataframe tbody tr th:only-of-type {\n",
       "        vertical-align: middle;\n",
       "    }\n",
       "\n",
       "    .dataframe tbody tr th {\n",
       "        vertical-align: top;\n",
       "    }\n",
       "\n",
       "    .dataframe thead th {\n",
       "        text-align: right;\n",
       "    }\n",
       "</style>\n",
       "<table border=\"1\" class=\"dataframe\">\n",
       "  <thead>\n",
       "    <tr style=\"text-align: right;\">\n",
       "      <th></th>\n",
       "      <th>Unnamed: 0</th>\n",
       "      <th>estimator</th>\n",
       "      <th>mean_fit_time</th>\n",
       "      <th>mean_score_time</th>\n",
       "      <th>mean_test_neg_mean_absolute_error</th>\n",
       "      <th>mean_test_neg_mean_squared_error</th>\n",
       "      <th>mean_test_r2</th>\n",
       "      <th>param_model__estimator__C</th>\n",
       "      <th>param_model__estimator__gamma</th>\n",
       "      <th>param_model__estimator__kernel</th>\n",
       "      <th>...</th>\n",
       "      <th>split3_test_neg_mean_squared_error</th>\n",
       "      <th>split3_test_r2</th>\n",
       "      <th>split4_test_neg_mean_absolute_error</th>\n",
       "      <th>split4_test_neg_mean_squared_error</th>\n",
       "      <th>split4_test_r2</th>\n",
       "      <th>std_fit_time</th>\n",
       "      <th>std_score_time</th>\n",
       "      <th>std_test_neg_mean_absolute_error</th>\n",
       "      <th>std_test_neg_mean_squared_error</th>\n",
       "      <th>std_test_r2</th>\n",
       "    </tr>\n",
       "  </thead>\n",
       "  <tbody>\n",
       "    <tr>\n",
       "      <th>0</th>\n",
       "      <td>0</td>\n",
       "      <td>LinearRegression</td>\n",
       "      <td>56.996707</td>\n",
       "      <td>4.842231</td>\n",
       "      <td>-2249.335372</td>\n",
       "      <td>-9.444809e+06</td>\n",
       "      <td>0.806067</td>\n",
       "      <td>NaN</td>\n",
       "      <td>NaN</td>\n",
       "      <td>NaN</td>\n",
       "      <td>...</td>\n",
       "      <td>-1.003536e+07</td>\n",
       "      <td>0.780765</td>\n",
       "      <td>-2298.275317</td>\n",
       "      <td>-9.017679e+06</td>\n",
       "      <td>0.817995</td>\n",
       "      <td>17.734316</td>\n",
       "      <td>0.981903</td>\n",
       "      <td>109.220299</td>\n",
       "      <td>1.090730e+06</td>\n",
       "      <td>0.020443</td>\n",
       "    </tr>\n",
       "    <tr>\n",
       "      <th>1</th>\n",
       "      <td>0</td>\n",
       "      <td>Lasso</td>\n",
       "      <td>787.965765</td>\n",
       "      <td>3.130403</td>\n",
       "      <td>-2249.550207</td>\n",
       "      <td>-9.446957e+06</td>\n",
       "      <td>0.806002</td>\n",
       "      <td>NaN</td>\n",
       "      <td>NaN</td>\n",
       "      <td>NaN</td>\n",
       "      <td>...</td>\n",
       "      <td>-1.004728e+07</td>\n",
       "      <td>0.780504</td>\n",
       "      <td>-2302.218781</td>\n",
       "      <td>-9.053263e+06</td>\n",
       "      <td>0.817277</td>\n",
       "      <td>332.700820</td>\n",
       "      <td>0.157155</td>\n",
       "      <td>108.112348</td>\n",
       "      <td>1.071438e+06</td>\n",
       "      <td>0.020238</td>\n",
       "    </tr>\n",
       "    <tr>\n",
       "      <th>2</th>\n",
       "      <td>0</td>\n",
       "      <td>Ridge</td>\n",
       "      <td>26.992292</td>\n",
       "      <td>5.034224</td>\n",
       "      <td>-2252.232807</td>\n",
       "      <td>-9.444702e+06</td>\n",
       "      <td>0.806063</td>\n",
       "      <td>NaN</td>\n",
       "      <td>NaN</td>\n",
       "      <td>NaN</td>\n",
       "      <td>...</td>\n",
       "      <td>-1.003906e+07</td>\n",
       "      <td>0.780684</td>\n",
       "      <td>-2300.804194</td>\n",
       "      <td>-9.032139e+06</td>\n",
       "      <td>0.817704</td>\n",
       "      <td>9.415740</td>\n",
       "      <td>0.871968</td>\n",
       "      <td>109.267034</td>\n",
       "      <td>1.083271e+06</td>\n",
       "      <td>0.020347</td>\n",
       "    </tr>\n",
       "    <tr>\n",
       "      <th>3</th>\n",
       "      <td>0</td>\n",
       "      <td>ElasticNet</td>\n",
       "      <td>54.494704</td>\n",
       "      <td>6.134713</td>\n",
       "      <td>-4628.637693</td>\n",
       "      <td>-3.113923e+07</td>\n",
       "      <td>0.358835</td>\n",
       "      <td>NaN</td>\n",
       "      <td>NaN</td>\n",
       "      <td>NaN</td>\n",
       "      <td>...</td>\n",
       "      <td>-3.335338e+07</td>\n",
       "      <td>0.271343</td>\n",
       "      <td>-4858.006419</td>\n",
       "      <td>-3.390740e+07</td>\n",
       "      <td>0.315645</td>\n",
       "      <td>26.518079</td>\n",
       "      <td>1.729862</td>\n",
       "      <td>179.926168</td>\n",
       "      <td>2.263244e+06</td>\n",
       "      <td>0.058238</td>\n",
       "    </tr>\n",
       "    <tr>\n",
       "      <th>4</th>\n",
       "      <td>0</td>\n",
       "      <td>llars</td>\n",
       "      <td>46.851553</td>\n",
       "      <td>8.002740</td>\n",
       "      <td>-2333.308156</td>\n",
       "      <td>-1.016482e+07</td>\n",
       "      <td>0.791013</td>\n",
       "      <td>NaN</td>\n",
       "      <td>NaN</td>\n",
       "      <td>NaN</td>\n",
       "      <td>...</td>\n",
       "      <td>-1.082715e+07</td>\n",
       "      <td>0.763468</td>\n",
       "      <td>-2428.809045</td>\n",
       "      <td>-1.014376e+07</td>\n",
       "      <td>0.795266</td>\n",
       "      <td>12.670819</td>\n",
       "      <td>1.485592</td>\n",
       "      <td>106.811166</td>\n",
       "      <td>9.848922e+05</td>\n",
       "      <td>0.020813</td>\n",
       "    </tr>\n",
       "    <tr>\n",
       "      <th>5</th>\n",
       "      <td>0</td>\n",
       "      <td>ExtraTreesRegressor</td>\n",
       "      <td>9321.519582</td>\n",
       "      <td>58.062933</td>\n",
       "      <td>-1604.996093</td>\n",
       "      <td>-5.562580e+06</td>\n",
       "      <td>0.885874</td>\n",
       "      <td>NaN</td>\n",
       "      <td>NaN</td>\n",
       "      <td>NaN</td>\n",
       "      <td>...</td>\n",
       "      <td>-6.179342e+06</td>\n",
       "      <td>0.865003</td>\n",
       "      <td>-1656.081894</td>\n",
       "      <td>-5.124621e+06</td>\n",
       "      <td>0.896569</td>\n",
       "      <td>3182.768861</td>\n",
       "      <td>22.872692</td>\n",
       "      <td>154.351228</td>\n",
       "      <td>1.026941e+06</td>\n",
       "      <td>0.020196</td>\n",
       "    </tr>\n",
       "    <tr>\n",
       "      <th>6</th>\n",
       "      <td>0</td>\n",
       "      <td>RandomForestRegressor</td>\n",
       "      <td>16567.461127</td>\n",
       "      <td>13.988741</td>\n",
       "      <td>-1646.285410</td>\n",
       "      <td>-5.882619e+06</td>\n",
       "      <td>0.879219</td>\n",
       "      <td>NaN</td>\n",
       "      <td>NaN</td>\n",
       "      <td>NaN</td>\n",
       "      <td>...</td>\n",
       "      <td>-6.679994e+06</td>\n",
       "      <td>0.854065</td>\n",
       "      <td>-1701.495337</td>\n",
       "      <td>-5.486893e+06</td>\n",
       "      <td>0.889257</td>\n",
       "      <td>3411.965438</td>\n",
       "      <td>9.458353</td>\n",
       "      <td>161.751138</td>\n",
       "      <td>1.055074e+06</td>\n",
       "      <td>0.021330</td>\n",
       "    </tr>\n",
       "    <tr>\n",
       "      <th>7</th>\n",
       "      <td>0</td>\n",
       "      <td>AdaBoostRegressor</td>\n",
       "      <td>8897.550665</td>\n",
       "      <td>26.898186</td>\n",
       "      <td>-3544.486782</td>\n",
       "      <td>-1.855196e+07</td>\n",
       "      <td>0.617357</td>\n",
       "      <td>NaN</td>\n",
       "      <td>NaN</td>\n",
       "      <td>NaN</td>\n",
       "      <td>...</td>\n",
       "      <td>-1.946800e+07</td>\n",
       "      <td>0.574693</td>\n",
       "      <td>-3558.830299</td>\n",
       "      <td>-1.875836e+07</td>\n",
       "      <td>0.621397</td>\n",
       "      <td>3250.738747</td>\n",
       "      <td>12.953154</td>\n",
       "      <td>115.289427</td>\n",
       "      <td>1.177105e+06</td>\n",
       "      <td>0.037929</td>\n",
       "    </tr>\n",
       "    <tr>\n",
       "      <th>8</th>\n",
       "      <td>0</td>\n",
       "      <td>GradientBoostingRegressor</td>\n",
       "      <td>6417.616140</td>\n",
       "      <td>8.161521</td>\n",
       "      <td>-1833.616582</td>\n",
       "      <td>-6.744403e+06</td>\n",
       "      <td>0.861570</td>\n",
       "      <td>NaN</td>\n",
       "      <td>NaN</td>\n",
       "      <td>NaN</td>\n",
       "      <td>...</td>\n",
       "      <td>-7.336947e+06</td>\n",
       "      <td>0.839714</td>\n",
       "      <td>-1832.491068</td>\n",
       "      <td>-5.970233e+06</td>\n",
       "      <td>0.879501</td>\n",
       "      <td>2913.670794</td>\n",
       "      <td>2.420802</td>\n",
       "      <td>126.498676</td>\n",
       "      <td>1.063264e+06</td>\n",
       "      <td>0.020529</td>\n",
       "    </tr>\n",
       "    <tr>\n",
       "      <th>9</th>\n",
       "      <td>0</td>\n",
       "      <td>SVR</td>\n",
       "      <td>19170.822128</td>\n",
       "      <td>5221.664779</td>\n",
       "      <td>-5926.746661</td>\n",
       "      <td>-5.121717e+07</td>\n",
       "      <td>-0.053493</td>\n",
       "      <td>10.0</td>\n",
       "      <td>0.001</td>\n",
       "      <td>rbf</td>\n",
       "      <td>...</td>\n",
       "      <td>-5.088067e+07</td>\n",
       "      <td>-0.111573</td>\n",
       "      <td>-6033.620665</td>\n",
       "      <td>-5.192924e+07</td>\n",
       "      <td>-0.048095</td>\n",
       "      <td>6958.570408</td>\n",
       "      <td>1203.348787</td>\n",
       "      <td>104.987791</td>\n",
       "      <td>1.327976e+06</td>\n",
       "      <td>0.039792</td>\n",
       "    </tr>\n",
       "    <tr>\n",
       "      <th>10</th>\n",
       "      <td>0</td>\n",
       "      <td>KNeighborsRegressor</td>\n",
       "      <td>118.889317</td>\n",
       "      <td>15215.867385</td>\n",
       "      <td>-2246.604484</td>\n",
       "      <td>-1.010720e+07</td>\n",
       "      <td>0.792850</td>\n",
       "      <td>NaN</td>\n",
       "      <td>NaN</td>\n",
       "      <td>NaN</td>\n",
       "      <td>...</td>\n",
       "      <td>-1.039449e+07</td>\n",
       "      <td>0.772916</td>\n",
       "      <td>-2006.483200</td>\n",
       "      <td>-7.878846e+06</td>\n",
       "      <td>0.840980</td>\n",
       "      <td>66.098591</td>\n",
       "      <td>1741.606552</td>\n",
       "      <td>166.751607</td>\n",
       "      <td>1.861320e+06</td>\n",
       "      <td>0.033584</td>\n",
       "    </tr>\n",
       "  </tbody>\n",
       "</table>\n",
       "<p>11 rows × 37 columns</p>\n",
       "</div>"
      ],
      "text/plain": [
       "    Unnamed: 0                  estimator  mean_fit_time  mean_score_time  \\\n",
       "0            0           LinearRegression      56.996707         4.842231   \n",
       "1            0                      Lasso     787.965765         3.130403   \n",
       "2            0                      Ridge      26.992292         5.034224   \n",
       "3            0                 ElasticNet      54.494704         6.134713   \n",
       "4            0                      llars      46.851553         8.002740   \n",
       "5            0        ExtraTreesRegressor    9321.519582        58.062933   \n",
       "6            0      RandomForestRegressor   16567.461127        13.988741   \n",
       "7            0          AdaBoostRegressor    8897.550665        26.898186   \n",
       "8            0  GradientBoostingRegressor    6417.616140         8.161521   \n",
       "9            0                        SVR   19170.822128      5221.664779   \n",
       "10           0        KNeighborsRegressor     118.889317     15215.867385   \n",
       "\n",
       "    mean_test_neg_mean_absolute_error  mean_test_neg_mean_squared_error  \\\n",
       "0                        -2249.335372                     -9.444809e+06   \n",
       "1                        -2249.550207                     -9.446957e+06   \n",
       "2                        -2252.232807                     -9.444702e+06   \n",
       "3                        -4628.637693                     -3.113923e+07   \n",
       "4                        -2333.308156                     -1.016482e+07   \n",
       "5                        -1604.996093                     -5.562580e+06   \n",
       "6                        -1646.285410                     -5.882619e+06   \n",
       "7                        -3544.486782                     -1.855196e+07   \n",
       "8                        -1833.616582                     -6.744403e+06   \n",
       "9                        -5926.746661                     -5.121717e+07   \n",
       "10                       -2246.604484                     -1.010720e+07   \n",
       "\n",
       "    mean_test_r2  param_model__estimator__C  param_model__estimator__gamma  \\\n",
       "0       0.806067                        NaN                            NaN   \n",
       "1       0.806002                        NaN                            NaN   \n",
       "2       0.806063                        NaN                            NaN   \n",
       "3       0.358835                        NaN                            NaN   \n",
       "4       0.791013                        NaN                            NaN   \n",
       "5       0.885874                        NaN                            NaN   \n",
       "6       0.879219                        NaN                            NaN   \n",
       "7       0.617357                        NaN                            NaN   \n",
       "8       0.861570                        NaN                            NaN   \n",
       "9      -0.053493                       10.0                          0.001   \n",
       "10      0.792850                        NaN                            NaN   \n",
       "\n",
       "   param_model__estimator__kernel  ...  split3_test_neg_mean_squared_error  \\\n",
       "0                             NaN  ...                       -1.003536e+07   \n",
       "1                             NaN  ...                       -1.004728e+07   \n",
       "2                             NaN  ...                       -1.003906e+07   \n",
       "3                             NaN  ...                       -3.335338e+07   \n",
       "4                             NaN  ...                       -1.082715e+07   \n",
       "5                             NaN  ...                       -6.179342e+06   \n",
       "6                             NaN  ...                       -6.679994e+06   \n",
       "7                             NaN  ...                       -1.946800e+07   \n",
       "8                             NaN  ...                       -7.336947e+06   \n",
       "9                             rbf  ...                       -5.088067e+07   \n",
       "10                            NaN  ...                       -1.039449e+07   \n",
       "\n",
       "    split3_test_r2  split4_test_neg_mean_absolute_error  \\\n",
       "0         0.780765                         -2298.275317   \n",
       "1         0.780504                         -2302.218781   \n",
       "2         0.780684                         -2300.804194   \n",
       "3         0.271343                         -4858.006419   \n",
       "4         0.763468                         -2428.809045   \n",
       "5         0.865003                         -1656.081894   \n",
       "6         0.854065                         -1701.495337   \n",
       "7         0.574693                         -3558.830299   \n",
       "8         0.839714                         -1832.491068   \n",
       "9        -0.111573                         -6033.620665   \n",
       "10        0.772916                         -2006.483200   \n",
       "\n",
       "   split4_test_neg_mean_squared_error  split4_test_r2  std_fit_time  \\\n",
       "0                       -9.017679e+06        0.817995     17.734316   \n",
       "1                       -9.053263e+06        0.817277    332.700820   \n",
       "2                       -9.032139e+06        0.817704      9.415740   \n",
       "3                       -3.390740e+07        0.315645     26.518079   \n",
       "4                       -1.014376e+07        0.795266     12.670819   \n",
       "5                       -5.124621e+06        0.896569   3182.768861   \n",
       "6                       -5.486893e+06        0.889257   3411.965438   \n",
       "7                       -1.875836e+07        0.621397   3250.738747   \n",
       "8                       -5.970233e+06        0.879501   2913.670794   \n",
       "9                       -5.192924e+07       -0.048095   6958.570408   \n",
       "10                      -7.878846e+06        0.840980     66.098591   \n",
       "\n",
       "    std_score_time  std_test_neg_mean_absolute_error  \\\n",
       "0         0.981903                        109.220299   \n",
       "1         0.157155                        108.112348   \n",
       "2         0.871968                        109.267034   \n",
       "3         1.729862                        179.926168   \n",
       "4         1.485592                        106.811166   \n",
       "5        22.872692                        154.351228   \n",
       "6         9.458353                        161.751138   \n",
       "7        12.953154                        115.289427   \n",
       "8         2.420802                        126.498676   \n",
       "9      1203.348787                        104.987791   \n",
       "10     1741.606552                        166.751607   \n",
       "\n",
       "    std_test_neg_mean_squared_error  std_test_r2  \n",
       "0                      1.090730e+06     0.020443  \n",
       "1                      1.071438e+06     0.020238  \n",
       "2                      1.083271e+06     0.020347  \n",
       "3                      2.263244e+06     0.058238  \n",
       "4                      9.848922e+05     0.020813  \n",
       "5                      1.026941e+06     0.020196  \n",
       "6                      1.055074e+06     0.021330  \n",
       "7                      1.177105e+06     0.037929  \n",
       "8                      1.063264e+06     0.020529  \n",
       "9                      1.327976e+06     0.039792  \n",
       "10                     1.861320e+06     0.033584  \n",
       "\n",
       "[11 rows x 37 columns]"
      ]
     },
     "execution_count": 3,
     "metadata": {},
     "output_type": "execute_result"
    }
   ],
   "source": [
    "results = pd.read_csv('/Users/alexanderkell/Documents/PhD/Projects/10-ELECSIM/run/market_forecasting_comparison/data/results/results/demand_initial_exploration-2020-02-24 05:18:05.717624+00:00.csv')\n",
    "results"
   ]
  },
  {
   "cell_type": "code",
   "execution_count": 4,
   "metadata": {},
   "outputs": [],
   "source": [
    "results['mean_test_mean_absolute_error'] = abs(results['mean_test_neg_mean_absolute_error'])"
   ]
  },
  {
   "cell_type": "code",
   "execution_count": 5,
   "metadata": {},
   "outputs": [
    {
     "data": {
      "text/plain": [
       "[Text(0, 0, 'LinearRegression'),\n",
       " Text(0, 0, 'Lasso'),\n",
       " Text(0, 0, 'Ridge'),\n",
       " Text(0, 0, 'ElasticNet'),\n",
       " Text(0, 0, 'llars'),\n",
       " Text(0, 0, 'ExtraTreesRegressor'),\n",
       " Text(0, 0, 'RandomForestRegressor'),\n",
       " Text(0, 0, 'AdaBoostRegressor'),\n",
       " Text(0, 0, 'GradientBoostingRegressor'),\n",
       " Text(0, 0, 'SVR'),\n",
       " Text(0, 0, 'KNeighborsRegressor')]"
      ]
     },
     "execution_count": 5,
     "metadata": {},
     "output_type": "execute_result"
    },
    {
     "data": {
      "image/png": "[encoded data removed]",
      "text/plain": [
       "<Figure size 432x288 with 1 Axes>"
      ]
     },
     "metadata": {
      "needs_background": "light"
     },
     "output_type": "display_data"
    }
   ],
   "source": [
    "g = sns.barplot(data = results, x='estimator', y='mean_test_mean_absolute_error')\n",
    "g.set_xticklabels(g.get_xticklabels(), rotation=-90)\n"
   ]
  },
  {
   "cell_type": "code",
   "execution_count": 6,
   "metadata": {},
   "outputs": [
    {
     "data": {
      "text/plain": [
       "[Text(0, 0, 'LinearRegression'),\n",
       " Text(0, 0, 'Lasso'),\n",
       " Text(0, 0, 'Ridge'),\n",
       " Text(0, 0, 'ElasticNet'),\n",
       " Text(0, 0, 'llars'),\n",
       " Text(0, 0, 'ExtraTreesRegressor'),\n",
       " Text(0, 0, 'RandomForestRegressor'),\n",
       " Text(0, 0, 'AdaBoostRegressor'),\n",
       " Text(0, 0, 'GradientBoostingRegressor'),\n",
       " Text(0, 0, 'SVR'),\n",
       " Text(0, 0, 'KNeighborsRegressor')]"
      ]
     },
     "execution_count": 6,
     "metadata": {},
     "output_type": "execute_result"
    },
    {
     "data": {
      "image/png": "[encoded data removed]",
      "text/plain": [
       "<Figure size 432x288 with 1 Axes>"
      ]
     },
     "metadata": {
      "needs_background": "light"
     },
     "output_type": "display_data"
    }
   ],
   "source": [
    "g = sns.barplot(data = results, x='estimator', y='mean_fit_time')\n",
    "g.set_xticklabels(g.get_xticklabels(), rotation=-90)"
   ]
  },
  {
   "cell_type": "code",
   "execution_count": 7,
   "metadata": {},
   "outputs": [
    {
     "data": {
      "text/plain": [
       "[Text(0, 0, 'LinearRegression'),\n",
       " Text(0, 0, 'Lasso'),\n",
       " Text(0, 0, 'Ridge'),\n",
       " Text(0, 0, 'ElasticNet'),\n",
       " Text(0, 0, 'llars'),\n",
       " Text(0, 0, 'ExtraTreesRegressor'),\n",
       " Text(0, 0, 'RandomForestRegressor'),\n",
       " Text(0, 0, 'AdaBoostRegressor'),\n",
       " Text(0, 0, 'GradientBoostingRegressor'),\n",
       " Text(0, 0, 'SVR'),\n",
       " Text(0, 0, 'KNeighborsRegressor')]"
      ]
     },
     "execution_count": 7,
     "metadata": {},
     "output_type": "execute_result"
    },
    {
     "data": {
      "image/png": "[encoded data removed]",
      "text/plain": [
       "<Figure size 432x288 with 1 Axes>"
      ]
     },
     "metadata": {
      "needs_background": "light"
     },
     "output_type": "display_data"
    }
   ],
   "source": [
    "results_long = pd.melt(results, id_vars=['estimator'], value_vars=['mean_fit_time','mean_test_mean_absolute_error','mean_score_time'])\n",
    "g = sns.barplot(data=results_long, hue='variable', y='value', x='estimator')\n",
    "g.set_xticklabels(g.get_xticklabels(), rotation=-90)"
   ]
  },
  {
   "cell_type": "markdown",
   "metadata": {},
   "source": [
    "## Visualise Predictions"
   ]
  },
  {
   "cell_type": "code",
   "execution_count": 8,
   "metadata": {},
   "outputs": [],
   "source": [
    "import os.path\n",
    "import sys\n",
    "sys.path.append(os.path.join(os.path.dirname(os.path.realpath('__file__')), '../../..'))\n",
    "ROOT_DIR = os.path.join(os.path.dirname(os.path.realpath('__file__')), '')\n",
    "\n",
    "from run.market_forecasting_comparison.munging.multi_step_forecasting_wrangling import multi_step_data_prep, get_hours_of_days_needed\n",
    "# from run.market_forecasting_comparison.ML.EstimatorSelectionHelper import EstimatorSelectionHelper\n",
    "\n",
    "import numpy as np"
   ]
  },
  {
   "cell_type": "code",
   "execution_count": 9,
   "metadata": {},
   "outputs": [],
   "source": [
    "from sklearn.linear_model import LinearRegression\n",
    "from sklearn.linear_model import Lasso\n",
    "from sklearn.linear_model import Ridge\n",
    "from sklearn.linear_model import ElasticNet\n",
    "from sklearn.linear_model import LassoLars\n",
    "from sklearn.neighbors import KNeighborsRegressor\n",
    "from sklearn.ensemble import RandomForestRegressor\n",
    "from sklearn.ensemble import AdaBoostRegressor\n",
    "from sklearn.ensemble import GradientBoostingRegressor\n",
    "from sklearn.ensemble import ExtraTreesRegressor\n",
    "from sklearn.neural_network import MLPRegressor\n",
    "from sklearn.svm import SVR\n",
    "\n",
    "from sklearn.model_selection import GridSearchCV\n",
    "\n",
    "from sklearn.preprocessing import StandardScaler\n",
    "from sklearn.preprocessing import MinMaxScaler\n",
    "from sklearn.pipeline import Pipeline\n",
    "\n",
    "from sklearn.multioutput import MultiOutputRegressor\n",
    "from sklearn.model_selection import TimeSeriesSplit"
   ]
  },
  {
   "cell_type": "code",
   "execution_count": 10,
   "metadata": {},
   "outputs": [],
   "source": [
    "models = {\n",
    "#     'LinearRegression': LinearRegression(),\n",
    "#     'Lasso': Lasso(),\n",
    "#     'Ridge': Ridge(),\n",
    "#     'ElasticNet': ElasticNet(),\n",
    "#     'llars': LassoLars(),\n",
    "    'ExtraTreesRegressor': ExtraTreesRegressor(),\n",
    "#     'RandomForestRegressor': RandomForestRegressor(),\n",
    "#     'AdaBoostRegressor': AdaBoostRegressor(),\n",
    "#     'GradientBoostingRegressor': GradientBoostingRegressor(),\n",
    "#     'SVR': SVR(),\n",
    "#     \"MLPRegressor\": MLPRegressor(),\n",
    "#     'KNeighborsRegressor': KNeighborsRegressor()\n",
    "}\n",
    "\n",
    "params = {\n",
    "    'LinearRegression': {},\n",
    "    'Lasso': {},\n",
    "    'Ridge': {},\n",
    "    'ElasticNet': {},\n",
    "    'llars': {},\n",
    "    'ExtraTreesRegressor': {'model__estimator__n_estimators': [32]},\n",
    "    'RandomForestRegressor': {'model__estimator__n_estimators': [32]},\n",
    "    'AdaBoostRegressor':  {'model__estimator__n_estimators': [32]},\n",
    "    'GradientBoostingRegressor': {'model__estimator__n_estimators': [32], 'model__estimator__learning_rate': [0.8]},\n",
    "    'SVR': [\n",
    "        # {'model__estimator__kernel': ['linear'], 'model__estimator__C': [10]},\n",
    "        {'model__estimator__kernel': ['rbf'], 'model__estimator__C': [10], 'model__estimator__gamma': [0.001]},\n",
    "    ],\n",
    "    'MLPRegressor': {\"model__estimator__hidden_layer_sizes\": [(1,), (50,)], \"model__estimator__activation\": [\"tanh\", \"relu\"], \"model__estimator__solver\": [\"adam\"], \"model__estimator__alpha\": [0.0005]},\n",
    "    'KNeighborsRegressor': {'model__estimator__n_neighbors': [20]},\n",
    "}"
   ]
  },
  {
   "cell_type": "code",
   "execution_count": 11,
   "metadata": {},
   "outputs": [],
   "source": [
    "class EstimatorSelectionHelper:\n",
    "\n",
    "    def __init__(self, models, params):\n",
    "        if not set(models.keys()).issubset(set(params.keys())):\n",
    "            missing_params = list(set(models.keys()) - set(params.keys()))\n",
    "            raise ValueError(\"Some estimators are missing parameters: %s\" % missing_params)\n",
    "        self.models = models\n",
    "        self.params = params\n",
    "        self.keys = models.keys()\n",
    "        self.grid_searches = {}\n",
    "\n",
    "    def fit(self, X, y, cv=3, n_jobs=3, verbose=1, refit=True, scoring=None):\n",
    "        for key in self.keys:\n",
    "            print(\"Running GridSearchCV for %s.\" % key)\n",
    "            model = MultiOutputRegressor(self.models[key])\n",
    "            \n",
    "            pipeline = self.make_pipeline(model)\n",
    "            params = self.params[key]\n",
    "            tscv = TimeSeriesSplit(n_splits=cv)\n",
    "\n",
    "            gs = GridSearchCV(pipeline, params, cv=tscv, n_jobs=n_jobs,\n",
    "                              verbose=verbose, scoring=scoring, refit=refit,\n",
    "                              return_train_score=True)\n",
    "            gs.fit(X,y)\n",
    "            self.grid_searches[key] = gs    \n",
    "\n",
    "    def score_summary(self):\n",
    "        all_results = []\n",
    "        for k in self.grid_searches:\n",
    "            results = pd.DataFrame(self.grid_searches[k].cv_results_)\n",
    "            results['estimator'] = k\n",
    "            all_results.append(results)\n",
    "        results_df = pd.concat(all_results)\n",
    "        results_df = results_df.loc[:,~results_df.columns.str.contains('train')] \n",
    "\n",
    "        return results_df\n",
    "    \n",
    "    def make_pipeline(self, model):\n",
    "        steps = list()\n",
    "        steps.append(('standardize', StandardScaler()))\n",
    "        steps.append(('normalize', MinMaxScaler()))\n",
    "        steps.append(('model', model))\n",
    "        # create pipeline\n",
    "        pipeline = Pipeline(steps=steps)\n",
    "        return pipeline\n"
   ]
  },
  {
   "cell_type": "code",
   "execution_count": 12,
   "metadata": {},
   "outputs": [
    {
     "name": "stdout",
     "output_type": "stream",
     "text": [
      "Running GridSearchCV for ExtraTreesRegressor.\n",
      "Fitting 8 folds for each of 1 candidates, totalling 8 fits\n"
     ]
    },
    {
     "name": "stderr",
     "output_type": "stream",
     "text": [
      "[Parallel(n_jobs=-1)]: Using backend LokyBackend with 16 concurrent workers.\n",
      "[Parallel(n_jobs=-1)]: Done   4 out of   8 | elapsed:  7.1min remaining:  7.1min\n",
      "[Parallel(n_jobs=-1)]: Done   8 out of   8 | elapsed: 13.7min finished\n"
     ]
    }
   ],
   "source": [
    "demand = pd.read_csv('{}/../data/capacity/demand.csv'.format(ROOT_DIR))\n",
    "\n",
    "demand_2017 = demand[demand.time < \"2017\"]\n",
    "\n",
    "demand_2017 = demand_2017.drop(columns=['time', 'Unnamed: 0'])\n",
    "\n",
    "prev_days_needed = get_hours_of_days_needed(days_wanted=[1, 2, 7, 30], hours_wanted=[28, 28, 28, 28, 28])\n",
    "multi_step_dat = multi_step_data_prep(dat=demand_2017, input_lags=prev_days_needed, outputs=24)\n",
    "\n",
    "y = multi_step_dat.filter(like='value').values\n",
    "X = multi_step_dat.filter(regex='^(?!.*value).*$').values.astype(np.float32)\n",
    "\n",
    "helper1 = EstimatorSelectionHelper(models, params)\n",
    "# helper1.fit(X, y, n_jobs=-1, cv=5, refit=False)\n",
    "helper1.fit(X, y, scoring='neg_mean_absolute_error', n_jobs=-1, cv=8, refit=True, verbose=1)\n",
    "\n",
    "res = helper1.score_summary()\n",
    "\n",
    "# timezone = pytz.timezone(\"Europe/London\")\n",
    "\n",
    "# res.to_csv('{}/../data/results/demand_initial_exploration-{}.csv'.format(ROOT_DIR, datetime.now(tz=timezone)))\n"
   ]
  },
  {
   "cell_type": "code",
   "execution_count": 16,
   "metadata": {},
   "outputs": [
    {
     "data": {
      "text/html": [
       "<div>\n",
       "<style scoped>\n",
       "    .dataframe tbody tr th:only-of-type {\n",
       "        vertical-align: middle;\n",
       "    }\n",
       "\n",
       "    .dataframe tbody tr th {\n",
       "        vertical-align: top;\n",
       "    }\n",
       "\n",
       "    .dataframe thead th {\n",
       "        text-align: right;\n",
       "    }\n",
       "</style>\n",
       "<table border=\"1\" class=\"dataframe\">\n",
       "  <thead>\n",
       "    <tr style=\"text-align: right;\">\n",
       "      <th></th>\n",
       "      <th>mean_fit_time</th>\n",
       "      <th>std_fit_time</th>\n",
       "      <th>mean_score_time</th>\n",
       "      <th>std_score_time</th>\n",
       "      <th>param_model__estimator__n_estimators</th>\n",
       "      <th>params</th>\n",
       "      <th>split0_test_score</th>\n",
       "      <th>split1_test_score</th>\n",
       "      <th>split2_test_score</th>\n",
       "      <th>split3_test_score</th>\n",
       "      <th>split4_test_score</th>\n",
       "      <th>split5_test_score</th>\n",
       "      <th>split6_test_score</th>\n",
       "      <th>split7_test_score</th>\n",
       "      <th>mean_test_score</th>\n",
       "      <th>std_test_score</th>\n",
       "      <th>rank_test_score</th>\n",
       "      <th>estimator</th>\n",
       "    </tr>\n",
       "  </thead>\n",
       "  <tbody>\n",
       "    <tr>\n",
       "      <th>0</th>\n",
       "      <td>461.474528</td>\n",
       "      <td>228.654639</td>\n",
       "      <td>3.795825</td>\n",
       "      <td>2.091349</td>\n",
       "      <td>32</td>\n",
       "      <td>{'model__estimator__n_estimators': 32}</td>\n",
       "      <td>-1827.467148</td>\n",
       "      <td>-2002.769198</td>\n",
       "      <td>-1140.181523</td>\n",
       "      <td>-1317.579205</td>\n",
       "      <td>-1698.754132</td>\n",
       "      <td>-1689.541798</td>\n",
       "      <td>-1825.634637</td>\n",
       "      <td>-1591.238865</td>\n",
       "      <td>-1636.645813</td>\n",
       "      <td>265.323718</td>\n",
       "      <td>1</td>\n",
       "      <td>ExtraTreesRegressor</td>\n",
       "    </tr>\n",
       "  </tbody>\n",
       "</table>\n",
       "</div>"
      ],
      "text/plain": [
       "   mean_fit_time  std_fit_time  mean_score_time  std_score_time  \\\n",
       "0     461.474528    228.654639         3.795825        2.091349   \n",
       "\n",
       "  param_model__estimator__n_estimators  \\\n",
       "0                                   32   \n",
       "\n",
       "                                   params  split0_test_score  \\\n",
       "0  {'model__estimator__n_estimators': 32}       -1827.467148   \n",
       "\n",
       "   split1_test_score  split2_test_score  split3_test_score  split4_test_score  \\\n",
       "0       -2002.769198       -1140.181523       -1317.579205       -1698.754132   \n",
       "\n",
       "   split5_test_score  split6_test_score  split7_test_score  mean_test_score  \\\n",
       "0       -1689.541798       -1825.634637       -1591.238865     -1636.645813   \n",
       "\n",
       "   std_test_score  rank_test_score            estimator  \n",
       "0      265.323718                1  ExtraTreesRegressor  "
      ]
     },
     "execution_count": 16,
     "metadata": {},
     "output_type": "execute_result"
    }
   ],
   "source": [
    "res"
   ]
  },
  {
   "cell_type": "code",
   "execution_count": 30,
   "metadata": {},
   "outputs": [
    {
     "data": {
      "text/plain": [
       "array([28420.58333333, 30466.16666667, 32241.66666667, 34382.5       ,\n",
       "       37441.16666667, 40171.58333333, 41118.08333333, 38879.25      ,\n",
       "       35971.16666667, 35276.5       , 35351.16666667, 35577.        ,\n",
       "       35135.33333333, 34458.83333333, 32582.        , 29711.75      ,\n",
       "       27342.66666667, 25740.58333333, 25484.5       , 25434.75      ,\n",
       "       26419.75      , 27128.08333333, 27864.58333333, 27621.91666667])"
      ]
     },
     "execution_count": 30,
     "metadata": {},
     "output_type": "execute_result"
    }
   ],
   "source": [
    "predictions = helper1.grid_searches['ExtraTreesRegressor'].best_estimator_.predict(X[-1].reshape(1,-1))\n",
    "predictions = list(reversed(predictions))[0]\n",
    "predictions"
   ]
  },
  {
   "cell_type": "code",
   "execution_count": 34,
   "metadata": {},
   "outputs": [
    {
     "name": "stderr",
     "output_type": "stream",
     "text": [
      "/Users/alexanderkell/.pyenv/versions/3.6.6/Python.framework/Versions/3.6/lib/python3.6/site-packages/ipykernel_launcher.py:4: SettingWithCopyWarning: \n",
      "A value is trying to be set on a copy of a slice from a DataFrame.\n",
      "Try using .loc[row_indexer,col_indexer] = value instead\n",
      "\n",
      "See the caveats in the documentation: http://pandas.pydata.org/pandas-docs/stable/user_guide/indexing.html#returning-a-view-versus-a-copy\n",
      "  after removing the cwd from sys.path.\n"
     ]
    },
    {
     "data": {
      "text/plain": [
       "<matplotlib.axes._subplots.AxesSubplot at 0x1391a26d8>"
      ]
     },
     "execution_count": 34,
     "metadata": {},
     "output_type": "execute_result"
    },
    {
     "data": {
      "image/png": "[encoded data removed]",
      "text/plain": [
       "<Figure size 432x288 with 1 Axes>"
      ]
     },
     "metadata": {
      "needs_background": "light"
     },
     "output_type": "display_data"
    }
   ],
   "source": [
    "y = demand#.values\n",
    "y['time'] = pd.to_datetime(y['time'])\n",
    "trial = y[(y.time >= \"2018-06-04\") & (y.time <= \"2018-06-11\")]\n",
    "trial['time'] = pd.to_datetime(trial['time'])\n",
    "sns.lineplot(data = trial, x='time', y='value')"
   ]
  },
  {
   "cell_type": "code",
   "execution_count": 36,
   "metadata": {},
   "outputs": [
    {
     "name": "stderr",
     "output_type": "stream",
     "text": [
      "/Users/alexanderkell/.pyenv/versions/3.6.6/Python.framework/Versions/3.6/lib/python3.6/site-packages/ipykernel_launcher.py:1: SettingWithCopyWarning: \n",
      "A value is trying to be set on a copy of a slice from a DataFrame.\n",
      "Try using .loc[row_indexer,col_indexer] = value instead\n",
      "\n",
      "See the caveats in the documentation: http://pandas.pydata.org/pandas-docs/stable/user_guide/indexing.html#returning-a-view-versus-a-copy\n",
      "  \"\"\"Entry point for launching an IPython kernel.\n"
     ]
    },
    {
     "data": {
      "text/plain": [
       "array([[6.1544000e+04, 1.5280703e+18, 0.0000000e+00, ..., 4.0000000e+00,\n",
       "        2.0180000e+03, 0.0000000e+00],\n",
       "       [6.1545000e+04, 1.5280740e+18, 1.0000000e+00, ..., 4.0000000e+00,\n",
       "        2.0180000e+03, 0.0000000e+00],\n",
       "       [6.1546000e+04, 1.5280776e+18, 2.0000000e+00, ..., 4.0000000e+00,\n",
       "        2.0180000e+03, 0.0000000e+00],\n",
       "       ...,\n",
       "       [6.1710000e+04, 1.5286681e+18, 2.2000000e+01, ..., 1.0000000e+01,\n",
       "        2.0180000e+03, 0.0000000e+00],\n",
       "       [6.1711000e+04, 1.5286716e+18, 2.3000000e+01, ..., 1.0000000e+01,\n",
       "        2.0180000e+03, 0.0000000e+00],\n",
       "       [6.1712000e+04, 1.5286752e+18, 0.0000000e+00, ..., 1.1000000e+01,\n",
       "        2.0180000e+03, 0.0000000e+00]], dtype=float32)"
      ]
     },
     "execution_count": 36,
     "metadata": {},
     "output_type": "execute_result"
    }
   ],
   "source": [
    "trial['time'] = pd.to_numeric(trial['time'])\n",
    "# trial['time'] = pd.to_datetime(trial['time'])\n",
    "# trial.filter(regex='^(?!.*value).*$').values.astype(np.float32)\n",
    "trial_input_X = trial.filter(regex='^(?!.*value).*$').values.astype(np.float32)\n",
    "trial_input_X"
   ]
  },
  {
   "cell_type": "code",
   "execution_count": 84,
   "metadata": {},
   "outputs": [
    {
     "data": {
      "text/plain": [
       "(16586, 114)"
      ]
     },
     "execution_count": 84,
     "metadata": {},
     "output_type": "execute_result"
    }
   ],
   "source": [
    "demand = pd.read_csv('{}/../data/capacity/demand.csv'.format(ROOT_DIR))\n",
    "\n",
    "demand_2017 = demand[demand.time >= \"2017\"]\n",
    "\n",
    "demand_2017 = demand_2017.drop(columns=['time', 'Unnamed: 0'])\n",
    "\n",
    "prev_days_needed = get_hours_of_days_needed(days_wanted=[1, 2, 7, 30], hours_wanted=[28, 28, 28, 28, 28])\n",
    "multi_step_dat = multi_step_data_prep(dat=demand_2017, input_lags=prev_days_needed, outputs=24)\n",
    "\n",
    "y_test = multi_step_dat.filter(like='value')#.values\n",
    "X_test = multi_step_dat.filter(regex='^(?!.*value).*$').values.astype(np.float32)\n",
    "\n",
    "# y_test.value\n",
    "np.shape(X_test)"
   ]
  },
  {
   "cell_type": "code",
   "execution_count": 88,
   "metadata": {},
   "outputs": [
    {
     "data": {
      "text/plain": [
       "(168, 114)"
      ]
     },
     "execution_count": 88,
     "metadata": {},
     "output_type": "execute_result"
    }
   ],
   "source": [
    "multi_step_dat_week = multi_step_dat[(multi_step_dat.month==6) & (multi_step_dat.dayofmonth > 10) & (multi_step_dat.dayofmonth < 18) & (multi_step_dat.year == 2018)]\n",
    "y_test = multi_step_dat_week.filter(like='value').value.values\n",
    "X_test = multi_step_dat_week.filter(regex='^(?!.*value).*$').values.astype(np.float32)\n",
    "np.shape(y_test)\n",
    "np.shape(X_test)"
   ]
  },
  {
   "cell_type": "code",
   "execution_count": 103,
   "metadata": {},
   "outputs": [
    {
     "data": {
      "image/png": "[encoded data removed]",
      "text/plain": [
       "<Figure size 432x288 with 1 Axes>"
      ]
     },
     "metadata": {
      "needs_background": "light"
     },
     "output_type": "display_data"
    }
   ],
   "source": [
    "# helper1.grid_searches.best_estimator_\n",
    "predictions = helper1.grid_searches['ExtraTreesRegressor'].best_estimator_.predict(X_test)\n",
    "np.shape(predictions[:,0])\n",
    "# predictions = reversed(list(predictions)[0])\n",
    "answer = pd.DataFrame({'predictions':predictions[:,0],'actuals':y_test})#.melt(id_vars=['index'])\n",
    "answer['hour'] = range(1,len(answer)+1)\n",
    "answer_long = answer.melt(id_vars='hour')\n",
    "sns.lineplot(data=answer_long, x='hour',hue='variable',y='value')\n",
    "\n",
    "answer_long.to_csv('/Users/alexanderkell/Documents/PhD/Projects/10-ELECSIM/run/market_forecasting_comparison/data/results/results/RandomForestRegressor_actual_vs_predicted.csv')\n"
   ]
  },
  {
   "cell_type": "code",
   "execution_count": null,
   "metadata": {},
   "outputs": [],
   "source": [
    "multi_step_dat.filter(regex='^(?!.*value).*$').columns"
   ]
  },
  {
   "cell_type": "code",
   "execution_count": null,
   "metadata": {},
   "outputs": [],
   "source": [
    "li = []\n",
    "for i in range(24):\n",
    "    li.append(helper1.grid_searches['RandomForestRegressor'].best_estimator_.named_steps['model'].estimators_[i].coef_)\n",
    "    \n",
    "coefficients = pd.DataFrame(li, columns=multi_step_dat.filter(regex='^(?!.*value).*$').columns)\n",
    "len(coefficients.columns)"
   ]
  },
  {
   "cell_type": "code",
   "execution_count": null,
   "metadata": {},
   "outputs": [],
   "source": [
    "coefficients_zero = coefficients.replace(0, np.nan).dropna(how=\"all\", axis=1)\n",
    "len(coefficients_zero.columns)\n"
   ]
  },
  {
   "cell_type": "code",
   "execution_count": null,
   "metadata": {},
   "outputs": [],
   "source": [
    "def predict_next_day(model, data):\n",
    "    results = model.predict(data)\n",
    "    return results\n",
    "\n",
    "\n",
    "model = helper1.grid_searches['RandomForestRegressor'].best_estimator_\n",
    "\n",
    "all_differences_list = []\n",
    "for day in range(2,367):\n",
    "    entire_data = X[-day].reshape(1,-1)\n",
    "    predicted = predict_next_day(model, entire_data)\n",
    "#     actual = demand.iloc[((day)*(24)):((day+1)*(24))].value\n",
    "    actual = y[-day]\n",
    "    differences = predicted[0] - actual\n",
    "    all_differences_list.append(differences)\n",
    "    \n",
    "    \n",
    "flattened_differences = np.concatenate(all_differences_list, axis=0 )\n",
    " \n",
    "differences_dataframe = pd.DataFrame({'differences':flattened_differences})\n",
    "\n",
    "sns.distplot(differences_dataframe.differences)\n",
    "\n",
    "differences_dataframe.to_csv('/Users/alexanderkell/Documents/PhD/Projects/10-ELECSIM/run/market_forecasting_comparison/data/results/prediction_errors/one_model.csv')"
   ]
  },
  {
   "cell_type": "code",
   "execution_count": null,
   "metadata": {},
   "outputs": [],
   "source": [
    "sns.distplot(differences_dataframe.differences)\n",
    "plt.axvline(x=differences_dataframe.differences.quantile(0.05), linestyle='--', linewidth=2.5, label=\"5% Percentile\", c='g')\n",
    "plt.axvline(x=differences_dataframe.differences.quantile(0.95), linestyle='--', linewidth=2.5, label=\"95% Percentile\", c='purple')\n",
    "plt.ylabel(\"frequency of occurence\", labelpad=14)\n",
    "plt.legend(bbox_to_anchor=(1.01, 1), loc=\"upper left\");\n",
    "plt.axvline(x=0, label=\"0\", c='g')\n",
    "plt.axvline(x=-6000, label=\"Max Tendered National Grid Reserve\", c='r')\n",
    "plt.axvline(x=6000, label=\"Max Tendered National Grid Reserve\", c='r')\n",
    "plt.axvline(x=-2000, label=\"Average Available Tendered National Grid Reserve\", c='b')\n",
    "plt.axvline(x=2000, label=\"Average Available Tendered National Grid Reserve\", c='b')"
   ]
  },
  {
   "cell_type": "code",
   "execution_count": null,
   "metadata": {},
   "outputs": [],
   "source": [
    "np.mean(abs(differences_dataframe.differences))"
   ]
  }
 ],
 "metadata": {
  "kernelspec": {
   "display_name": "Python 3",
   "language": "python",
   "name": "python3"
  },
  "language_info": {
   "codemirror_mode": {
    "name": "ipython",
    "version": 3
   },
   "file_extension": ".py",
   "mimetype": "text/x-python",
   "name": "python",
   "nbconvert_exporter": "python",
   "pygments_lexer": "ipython3",
   "version": "3.6.6"
  }
 },
 "nbformat": 4,
 "nbformat_minor": 2
}
